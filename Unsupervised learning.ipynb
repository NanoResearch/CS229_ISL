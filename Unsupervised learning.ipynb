{
 "metadata": {
  "name": ""
 },
 "nbformat": 3,
 "nbformat_minor": 0,
 "worksheets": [
  {
   "cells": [
    {
     "cell_type": "heading",
     "level": 2,
     "metadata": {},
     "source": [
      "Unsupervised learning - "
     ]
    },
    {
     "cell_type": "heading",
     "level": 3,
     "metadata": {},
     "source": [
      "Lance Martin"
     ]
    },
    {
     "cell_type": "heading",
     "level": 4,
     "metadata": {},
     "source": [
      "Preface - "
     ]
    },
    {
     "cell_type": "markdown",
     "metadata": {},
     "source": [
      "These are notes I wrote for myself while studying for PhD qualifying exams at Stanford. \n",
      "\n",
      "I wanted to published them so that others could benefit.\n",
      "\n",
      "They draw from two sources:\n",
      "\n",
      "* CS229, an excellent machine learning class at Stanford taught by Andrew Ng.\n",
      "* An Introduction to Statistical Learning (ISL), an excellent text by G. James, D. Witten,  T. Hastie and R. Tibshirani (Springer, 2013).\n",
      "\n",
      "Some of the figures are taken from ISL with permission from the authors."
     ]
    },
    {
     "cell_type": "heading",
     "level": 4,
     "metadata": {},
     "source": [
      "When to use - "
     ]
    },
    {
     "cell_type": "markdown",
     "metadata": {},
     "source": [
      "Objective: Model $P(x)$ for density estimation (which often use EM) - \n",
      "\n",
      "* For: anomoly detection.\n",
      "* Use: Probabilistic analysis (e.g., compute P(x)).\n",
      "* Data in subspaces (e.g., high dimentional, but actually lies in lower dimentional sub-space): Factor analysis.\n",
      "* Data in clusters (e.g., clumps): Mixture of Gaussians.\n",
      "\n",
      "Objective: Non-probablistic model for data compression - \n",
      "\n",
      "* For: Visualization or understanding.\n",
      "* Use: Non-probabilistic analysis.\n",
      "* Data in subspaces: PCA.\n",
      "* Data in clusters: k-means."
     ]
    },
    {
     "cell_type": "heading",
     "level": 4,
     "metadata": {},
     "source": [
      "Distance metrics - "
     ]
    },
    {
     "cell_type": "markdown",
     "metadata": {},
     "source": [
      "(1) Euclidian distance (between vectors - two lists of numbers): \n",
      "$$ \\sqrt{\\sum (x_i - y_i)^2} $$ \n",
      "\n",
      "(2) Correlation (of two lists of numbers):\n",
      "$$ \\frac{cov(x,y)}{\\sigma_x \\sigma_y} $$ \n",
      "\n",
      "(3) Manhattan (k=1) and Cheychev (k=inf) and k-th root:\n",
      "$$ \\sqrt{\\sum (x_i - y_i)^k} $$ \n",
      "\n",
      "(4) *** Angle ***\n",
      "$$ acos \\frac{abs(x \\cdot y)}{abs(x) abs(y)} $$ "
     ]
    },
    {
     "cell_type": "heading",
     "level": 4,
     "metadata": {},
     "source": [
      "K-means - "
     ]
    },
    {
     "cell_type": "markdown",
     "metadata": {},
     "source": [
      "This algorithm is intiutive:\n",
      "\n",
      "* Assign each training example, $x^i$, to a cluster centroid, $\\mu_j$.\n",
      "* Moving the cluster centroid ($\\mu_j$) to the mean of points assigned to it."
     ]
    },
    {
     "cell_type": "code",
     "collapsed": false,
     "input": [
      "import numpy as np\n",
      "import matplotlib.pyplot as plt\n",
      "import pandas as pd\n",
      "import seaborn as sns\n",
      "%matplotlib inline\n",
      "import sklearn.datasets as datasets\n",
      "# Make data with four clusters (X are data, Y are centers)\n",
      "X,Y = datasets.make_blobs(centers=10, cluster_std=0.5, random_state=0)\n",
      "plt.subplot(2,2,1)\n",
      "plt.jet() # Set the color map.\n",
      "plt.scatter(X[:,0], X[:,1],c=Y)\n",
      "plt.xticks(fontsize=5)\n",
      "plt.yticks(fontsize=5)\n",
      "plt.grid()\n",
      "plt.title('Pre-clustered data',fontsize=7.5)\n",
      "\n",
      "plt.subplot(2,2,2)\n",
      "from sklearn.cluster import KMeans\n",
      "kmeans = KMeans(4, random_state=8) # Random state is the generator used to initialize the centers\n",
      "Y_hat = kmeans.fit(X).labels_\n",
      "plt.scatter(X[:,0], X[:,1], c=Y_hat, alpha=0.4)\n",
      "mu = kmeans.cluster_centers_\n",
      "plt.scatter(mu[:,0], mu[:,1], s=100, c=np.unique(Y_hat))\n",
      "plt.xticks(fontsize=5)\n",
      "plt.yticks(fontsize=5)\n",
      "plt.grid()\n",
      "plt.title('Assign clusters with kMeans',fontsize=7.5)"
     ],
     "language": "python",
     "metadata": {},
     "outputs": [
      {
       "metadata": {},
       "output_type": "pyout",
       "prompt_number": 1,
       "text": [
        "<matplotlib.text.Text at 0x1097d16d0>"
       ]
      },
      {
       "metadata": {},
       "output_type": "display_data",
       "png": "[encoded data removed]",
       "text": [
        "<matplotlib.figure.Figure at 0x109677cd0>"
       ]
      }
     ],
     "prompt_number": 1
    },
    {
     "cell_type": "code",
     "collapsed": false,
     "input": [],
     "language": "python",
     "metadata": {},
     "outputs": []
    }
   ],
   "metadata": {}
  }
 ]
}