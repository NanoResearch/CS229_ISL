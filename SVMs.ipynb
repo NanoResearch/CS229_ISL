{
 "metadata": {
  "name": ""
 },
 "nbformat": 3,
 "nbformat_minor": 0,
 "worksheets": [
  {
   "cells": [
    {
     "cell_type": "heading",
     "level": 2,
     "metadata": {},
     "source": [
      "SVMs - "
     ]
    },
    {
     "cell_type": "heading",
     "level": 3,
     "metadata": {},
     "source": [
      "Lance Martin"
     ]
    },
    {
     "cell_type": "heading",
     "level": 4,
     "metadata": {},
     "source": [
      "Quick cheatsheet - "
     ]
    },
    {
     "cell_type": "markdown",
     "metadata": {},
     "source": [
      "$\\textbf{Algorithm type} -$\n",
      "\n",
      "* Classification: It will compute a class label.\n",
      "* Discriminatative.\n",
      "\n",
      "$\\textbf{Model} -$\n",
      "\n",
      "* Classes for $y \\in \\{-1,1\\}$.\n",
      "* $h(z) = g(z)$ where $g(z)$ is a yet undefined step-funtion.\n",
      "* $z=w^Tx + b$ is a linear combination of features and parameters.\n",
      "* If $y^i=1$, we train to generate $w^Tx + b >> 0$ and our classifier picks 1.\n",
      "\n",
      "$\\textbf{Assumptions} -$\n",
      "\n",
      "$\\textbf{Likelihood estimate} -$   \n",
      "\n",
      "* We did not use a probabilistic framing for SVMs.\n",
      "\n",
      "$\\textbf{Strategies for training our model parameters} -$  \n",
      "\n",
      "(1) Use convex optimization:\n",
      "\n",
      "* Our objective is to maximize the geometric margin.\n",
      "* We set this up as an optimization problem and set it up in dual form.\n",
      "* $f(w) = \\|w\\|^{2}$\n",
      "* $g_i(w) = -y^i (w^T x^i + b) + 1 $ with $g_i(w) \\leq 0$ for the optimal margin (meaning all points are correctly classified).\n",
      "* $ L(w,b,\\alpha) = \\|w\\|^{2} - \\sum\\limits_{i = 1}^{k} \\alpha_i [y^i (w^T x^i + b) -1] $\n",
      "* In the dual formulation, we first minimize the Lagrangian with respect to $\\omega$: $ \\theta(\\alpha,\\beta) = min_{\\omega,b} L(\\omega,b,\\alpha) $\n",
      "* This leads to the optimal parameter value, $\\omega$.\n",
      "* We further use this to find the values of $\\alpha$: $ max_{\\alpha; \\alpha \\geq 0} W(\\alpha)$.\n",
      "\n",
      "$\\textbf{Implementing the model} -$\n",
      "\n",
      "* Now, if we want to make a prediction for a new point, x: \n",
      "* $ \\omega^T x + b = (\\sum_{i=1}^m \\alpha_i y^i x^i)^T x + b = \\sum_{i=1}^m \\alpha_i y^i <x^i x> + b $\n",
      "* Where $\\alpha_i > 0$ only for points closest to the decision boundary (the support vector)!\n",
      "* Further, it involoves an inner product, meaning that we can Kernelize it to make this computation efficient.\n"
     ]
    },
    {
     "cell_type": "heading",
     "level": 4,
     "metadata": {},
     "source": [
      "Convex optimization - "
     ]
    },
    {
     "cell_type": "markdown",
     "metadata": {},
     "source": [
      "Convex optimization: \n",
      "    \n",
      "* Find a global solution for objective function within polynomial time.\n",
      "\n",
      "Convex sets:\n",
      "\n",
      "* Think of the set as a circle.\n",
      "* We draw a line between any two points.\n",
      "* If all points on the line are within the set, the set ($C$) is convex.\n",
      "* All points on a straight line that passes between $x_1,x_2$ are described by: $ x_3 = \\theta x_1 + (1-\\theta) x_2 \\in C $.\n",
      "* If this statement is true for any $x,y$, then the set is convex.\n",
      "* Examples include: All real numbers, non-negative numbers, norm ball ($\\| 1 \\| \\leq 1$). \n",
      "* Importaintly, positive semi-definite matricies are a convex set.\n",
      "\n",
      "Convex functions:\n",
      "\n",
      "* Convex funtion: $ f(\\theta x_1 + (1-\\theta) x_2) \\leq f(x_1) + (1-\\theta)f(x_2) $\n",
      "* Will always have a global optimum.\n",
      "\n",
      "First order condition of convexity: \n",
      "\n",
      "* The intution here is that we show that a function looks like a quadratic.\n",
      "* $f(x_2) \\geq f(x_1) +\\nabla f(x_1)^T (x_2-x_1)$\n",
      "* Simply, $x_2-x_1$ is the $x$ distance between points.\n",
      "* $\\nabla f(x_1)^T$ is the gradient of the function at $x_1$.\n",
      "* $\\nabla f(x_1)^T (x_2-x_1)$ gives an estimate for $f(x_2)$.\n",
      "* We simply show that the actual value of $f(x_2)$ is always greater than this estimate.\n",
      "\n",
      "Second order condition of convexity: \n",
      "\n",
      "* The second derivative is $\\geq 0$.\n",
      "* For example, proove that $y=x^2$ is convex: the second derivative is 2, which is $\\geq 0$.\n",
      "* Note that this can easily be extended to more complex functions: if working with a matrix, simply take the Hessian.\n",
      "* Moreover, if Hessian matrix is positive semi-definite, then the function is convex.\n",
      "\n",
      "The convex set and function come together to solve problems with a specific form:\n",
      "\n",
      "* Minimize a convex function, $f(x)$.\n",
      "* Subject to $x \\in C$.\n",
      "* Also subject to inequality ($g_i(x) \\leq 0$) and equality ($h_i=0$) constraints.\n",
      "* Where $f(x)$ and $g_i(x)$ are both convex differentiable.\n",
      "* Where $h_i(x)$ is affine, meaning that it is both convex and concave. \n",
      "\n",
      "Special cases:\n",
      "\n",
      "* Linear programming: Objective is affine, inequality condition is affine.\n",
      "* Quadratic programming: Objective is quadratic (e.g., least squares cost function)\n",
      "\n",
      "Use of quadratic programming for least squares minimization:\n",
      "\n",
      "* Typical problem will be constrained least squares.\n",
      "* We want to minimize our model error.\n",
      "* Objective is $\\frac{1}{2} \\| Ax - b \\|^2$\n",
      "* With constraints: (1) matrix format, (2) equality and / or inequality constraints."
     ]
    },
    {
     "cell_type": "markdown",
     "metadata": {},
     "source": [
      "Linear decision boundary - "
     ]
    },
    {
     "cell_type": "markdown",
     "metadata": {},
     "source": [
      "Previously, we showed that logistic regression is a classification algorithm. \n",
      "\n",
      "Given $h_{\\theta}(x)$ and the fact that $y \\in \\{0,1\\}$, $h_{\\theta}(x)=0.5$ is the decision boundary.\n",
      "\n",
      "This is produced when $\\theta^Tx = \\theta_1 x_1 + \\theta_2 x_2 + \\theta_3 = 0$.\n",
      "\n",
      "In turn, we can define a line of values for $\\theta_{1,2}$ over which the decision is ambiguous.\n",
      "\n",
      "In this case, the decision boundary is linear:\n",
      "\n",
      "$x_2 = -\\frac{\\theta_1}{\\theta_2} x_1 + \\theta_3 $"
     ]
    },
    {
     "cell_type": "code",
     "collapsed": false,
     "input": [
      "import numpy as np\n",
      "import matplotlib.pyplot as plt\n",
      "import pandas as pd\n",
      "import seaborn as sns\n",
      "%matplotlib inline\n",
      "\n",
      "# Value for theta\n",
      "theta=np.array([4,-4,5],dtype=float)\n",
      "\n",
      "# Decision boundary\n",
      "plt.subplot(2,2,2)\n",
      "x_min=0\n",
      "x_max=10\n",
      "x=np.arange(x_min, x_max, .1 )\n",
      "y=-(1/theta[2])*(theta[1]*x+theta[0])\n",
      "plt.plot(x,y,lw=2,color='black',alpha=0.75)\n",
      "plt.xlim([0,10])\n",
      "plt.ylim([0,10])\n",
      "plt.title('Decision boundary',fontsize=10)\n",
      "plt.xlabel('$x_1$',fontsize=10)\n",
      "plt.ylabel('$x_2$',fontsize=10)\n",
      "\n",
      "plt.tight_layout()"
     ],
     "language": "python",
     "metadata": {},
     "outputs": [
      {
       "metadata": {},
       "output_type": "display_data",
       "png": "[encoded data removed]",
       "text": [
        "<matplotlib.figure.Figure at 0x1075b0390>"
       ]
      }
     ],
     "prompt_number": 1
    },
    {
     "cell_type": "markdown",
     "metadata": {},
     "source": [
      "Of course, we train our model to obtain parameter values ($\\theta_{1,2,n}$) that seperate our data.\n",
      " \n",
      "Yet, in some cases, a linear decision boundary will not nicely seperate our data.\n",
      "\n",
      "Thus, we need to define a classification algorithm that implement decision boundaries with different shapes."
     ]
    },
    {
     "cell_type": "heading",
     "level": 4,
     "metadata": {},
     "source": [
      "Functional and geometric margin - "
     ]
    },
    {
     "cell_type": "markdown",
     "metadata": {},
     "source": [
      "Assume our training set is linearly seperable.\n",
      "\n",
      "$g(z)$ is the logistic funtion where $z=\\theta^T x$:\n",
      "    \n",
      "* If $y^i=1$, we train to generate $\\theta^T x >> 0$ and our classifier picks 1.\n",
      "* If $y^i=0$, we train to generate $\\theta^T x << 0$ and our classifier picks 0.\n",
      "\n",
      "The concept of $\\textbf{funtional margin}$ simply tells us whether a given training example is properly classified.\n",
      "\n",
      "Given a training dataset that is linealy seperable, some bounaries come closer to training examples (less favorable) than others.\n",
      "\n",
      "Moreover, we might choose the decision bounary that stays far away from our training examples.\n",
      "\n",
      "The concept of $\\textbf{geometric margin}$ tells us how close the decision boundary is to each training example.\n",
      "\n",
      "Useful review:\n",
      "\n",
      "* http://stackoverflow.com/questions/20058036/svm-what-is-a-functional-margin"
     ]
    },
    {
     "cell_type": "heading",
     "level": 4,
     "metadata": {},
     "source": [
      "The functional margin for the SVM classifier indicates whether training examples are properly classified -"
     ]
    },
    {
     "cell_type": "markdown",
     "metadata": {},
     "source": [
      "For logistic regression:\n",
      "\n",
      "* Classes: $y \\in \\{0,1\\}$.\n",
      "* Hypothesis: $h(z) = g(z)$ where $g(z)$ is the logistic funtion.\n",
      "* Input: $z=\\theta^T x$ where a linear combination of features and parameters is used.\n",
      "* Funtional margin: if $y^i=1$, we train to generate $\\theta^T x >> 0$ and our classifier picks 1.\n",
      "\n",
      "For a new classifier that sets the stage for SVMs:\n",
      "\n",
      "* Classes: $y \\in \\{-1,1\\}$.\n",
      "* Hypothesis: $h(z) = g(z)$ where $g(z)$ is a yet undefined step-funtion.\n",
      "* It picks 1 if $z \\geq 0$ or it picks 0.\n",
      "* Input: $z=w^Tx + b$, again a linear combination of features and parameters is used.\n",
      "* Funtional margin: if $y^i=1$, we train to generate $w^Tx + b >> 0$ and our classifier picks 1.\n",
      "\n",
      "The funtional margin with respect to a single training example:\n",
      "\n",
      "$\\hat{\\gamma}_i = y^i (w^T x^i + b)$\n",
      "\n",
      "The funtional margin with respect to a full training set is defined as the worst-case functonal margin:\n",
      "\n",
      "$\\hat{\\gamma} = min (\\hat{\\gamma}^i)$\n"
     ]
    },
    {
     "cell_type": "heading",
     "level": 4,
     "metadata": {},
     "source": [
      "Decision boundary -"
     ]
    },
    {
     "cell_type": "markdown",
     "metadata": {},
     "source": [
      "As with logistic regression, the decision boundary is produced when $\\omega^Tx + b = \\omega_1 x_1 + \\omega_2 x_2 + b = 0$.\n",
      "\n",
      "The linear decision boundary is:\n",
      "\n",
      "$x_2 = -\\frac{\\omega_1}{\\omega_2} x_1 - \\frac{b}{\\omega_2} $\n",
      "\n",
      "Note that the slope of the decision boundary is $-\\frac{\\omega_1}{\\omega_2}$, which is orthogomal to the slope defined by the parameters, $w$."
     ]
    },
    {
     "cell_type": "code",
     "collapsed": false,
     "input": [
      "# Value for theta\n",
      "w=np.array([4,4],dtype=float)\n",
      "b=5\n",
      "\n",
      "# Vals\n",
      "x_min=-10\n",
      "x_max=10\n",
      "\n",
      "# Ensure equal figure dimentions to see Orthogonality\n",
      "fig=plt.figure(figsize=(5,5))\n",
      "\n",
      "# Decision boundary\n",
      "plt.subplot(2,2,2)\n",
      "x=np.arange(x_min, x_max, .1 )\n",
      "y=-w[0]/w[1]*x-b/w[1]\n",
      "plt.plot(x,y,lw=2,color='black',alpha=0.75)\n",
      "plt.xlim([x_min,x_max])\n",
      "plt.ylim([x_min,x_max])\n",
      "plt.title('$\\omega$ and the decision boundary',fontsize=10)\n",
      "plt.xlabel('$x_1$',fontsize=10)\n",
      "plt.ylabel('$x_2$',fontsize=10)\n",
      "\n",
      "y_o=w[1]/w[0]*x\n",
      "plt.plot(x,y_o,lw=2,color='red',alpha=0.75)\n",
      "\n",
      "plt.tight_layout()"
     ],
     "language": "python",
     "metadata": {},
     "outputs": [
      {
       "metadata": {},
       "output_type": "display_data",
       "png": "[encoded data removed]",
       "text": [
        "<matplotlib.figure.Figure at 0x1095c9e10>"
       ]
      }
     ],
     "prompt_number": 2
    },
    {
     "cell_type": "markdown",
     "metadata": {},
     "source": [
      "We know that $\\omega$ (red) is orthogonal to the decision boundary:\n",
      "\n",
      "* We define the geometric margin, $\\gamma_i$, as the distance between a point and the boundary.\n",
      "* We also introduce the norm of $\\omega$: $\\sqrt(\\sum \\omega_i^2)$.\n",
      "* A unit vector in the direction of $\\omega$: $\\frac{\\omega}{\\|\\omega\\|}$\n",
      "\n",
      "The geometric margin ($\\gamma_i$)for any point, $x^i$, is derived knowing that $x^i - \\gamma_i \\frac{\\omega}{\\|\\omega\\|}$ is on the decision boundary.\n",
      "\n",
      "Any point on the decision boundary evaluates to zero: \n",
      "\n",
      "$$ w^T (x^i - \\gamma_i \\frac{\\omega}{\\|\\omega\\|}) + b $$\n",
      "\n",
      "Moreover, you can solve for $\\gamma_i$:\n",
      "\n",
      "$$ \\gamma_i = y^i ((\\frac{\\omega}{\\|\\omega\\|})^T x^i + \\frac{b}{\\|\\omega\\|}) $$\n",
      "\n",
      "Recall that the functional margin is:\n",
      "\n",
      "$\\hat{\\gamma}_i = y^i (\\omega^T x^i + b)$\n",
      "\n",
      "Thus the two margins are equal for model parameters with $\\|w\\|=1$.\n",
      "\n",
      "$\\gamma_i = \\frac{\\hat{\\gamma_i}}{\\|w\\|}$\n",
      "\n",
      "And, finally, the geometric margin for a set of training data is the minimum computed for the training set:\n",
      "\n",
      "$\\gamma = min (\\gamma_i) $"
     ]
    },
    {
     "cell_type": "heading",
     "level": 4,
     "metadata": {},
     "source": [
      "The geometric margin for the SVM classifier indicates how close training data are to the decision boundary -"
     ]
    },
    {
     "cell_type": "markdown",
     "metadata": {},
     "source": [
      "Intuitively, we want to find parameters ($\\omega,b$) that maximize the geometric margin for a training set:\n",
      "\n",
      "$max (\\frac{\\hat{\\gamma}}{\\|\\omega\\|})$\n",
      "\n",
      "The challenge is that we have a non-convex objective.\n",
      "\n",
      "We do several things to simply this:\n",
      "\n",
      "* Enforce that the funtional margin, $\\hat{\\gamma} = 1 $.\n",
      "* Thus, the geometric margin is $\\gamma = \\frac{1}{\\|w\\|}$.\n",
      "* Observe that maximizing $\\frac{1}{\\|w\\|}$ is the same as minimizing $\\frac{1}{2}(\\|w\\|)^2$\n",
      "\n",
      "We now want to find $w$ and $b$ such that:\n",
      "\n",
      "$max (\\frac{1}{\\|w\\|})$ or $min_{\\gamma,w,b} (\\|w\\|^{2})$, which is a quadratic constraint ($w^Tw$).\n",
      "\n",
      "Solving this problem (e.g., using QP solvers) gives us the optimal margin classifier!"
     ]
    },
    {
     "cell_type": "heading",
     "level": 4,
     "metadata": {},
     "source": [
      "The Lagrangian is a useful tool for solving optimization problems - "
     ]
    },
    {
     "cell_type": "markdown",
     "metadata": {},
     "source": [
      "Given a convex function that we want to minimize with inequality and equality constraints:\n",
      "\n",
      "* $min_x$ $f(x)$ \n",
      "* $g_i(w) \\leq 0$ \n",
      "* $h_i(w) = 0$\n",
      "\n",
      "We can solve it using the Lagrangian, which is passed x (the primal variable) as well as $\\alpha$ and $\\beta$ where $L$ is convex in x:\n",
      "\n",
      "$$ L(x,\\alpha,\\beta) = f(x) + \\sum\\limits_{i=1}^m \\alpha_i g_i(x) + \\sum\\limits_{i=1}^m \\beta_i h_i(x) $$\n",
      "\n",
      "Importaintly:\n",
      "\n",
      "* The first term captures the inequality constrains: $g_i(w) \\leq 0$\n",
      "* The second term captures the equality constraints: $h_i(w) = 0$"
     ]
    },
    {
     "cell_type": "heading",
     "level": 4,
     "metadata": {},
     "source": [
      "The primal problem -"
     ]
    },
    {
     "cell_type": "markdown",
     "metadata": {},
     "source": [
      "Recall our objective is $min_x$ $f(x)$.\n",
      "\n",
      "In the primal problem, we first maximize the Lagrangian function over all possible values of $\\alpha$ and $\\beta$.\n",
      "\n",
      "$$ \\theta_p(x) = max_{\\alpha, \\beta, \\alpha \\geq 0} L(x,\\alpha,\\beta) = f(x) + max_{\\alpha, \\beta, \\alpha \\geq 0} [ ... ] $$\n",
      "\n",
      "This is subject to the constraint that $\\alpha_i \\geq 0$.\n",
      "\n",
      "The problem is primal feasible if the initial constraints are satisfied: \n",
      "\n",
      "* $h_i=0$ \n",
      "* $g_i \\leq 0$.\n",
      "\n",
      "This is because:\n",
      "\n",
      "* The second summation drops due to $h_i=0$.\n",
      "* The first summation drops: $\\alpha_i = 0$) will maximize the funtion by knocking out the negative terms ($g_i \\leq 0$).\n",
      "\n",
      "Therefore, for values of $x$ that are primal feasible, the objective is:\n",
      "\n",
      "* $ min_x \\theta_p(x) = f(x) $\n",
      "* $P^* = min_x \\theta_p(x)$ is the optimal value of the objective.\n",
      "\n",
      "If constraints are violated (e.g., $g_i \\geq 0$):\n",
      "\n",
      "* Then the summation blows up and $ \\theta_p(x) = \\infty $."
     ]
    },
    {
     "cell_type": "heading",
     "level": 4,
     "metadata": {},
     "source": [
      "The dual problem -"
     ]
    },
    {
     "cell_type": "markdown",
     "metadata": {},
     "source": [
      "Again, recall our objective is $min_x$ $f(x)$.\n",
      "\n",
      "Another way of solving this is the dual problem, which reverses the order of operations.\n",
      "\n",
      "Previously we:\n",
      "\n",
      "* We maximized the Lagrangian function over all possible values of $\\alpha$ and $\\beta$.\n",
      "* For all values of $x$ that were primal feasible, we then got a simple objective that we then minimized over $x$.\n",
      "\n",
      "For the dual problem, we:\n",
      "\n",
      "* We minimize the Lagrangian function over all possible values of $x$.\n",
      "* Then, we get an objective that we maximize over all possible values of $\\alpha$ and $\\beta$!\n",
      "\n",
      "Thus, the dual objective, which is dual feasible if $\\alpha_i \\geq 0$.\n",
      "\n",
      "$$ \\theta(\\alpha,\\beta) = min_{x} L(x,\\alpha,\\beta) $$\n",
      "\n",
      "$$ D^* = max_{\\alpha,\\beta} \\theta(\\alpha,\\beta)$$\n"
     ]
    },
    {
     "cell_type": "heading",
     "level": 4,
     "metadata": {},
     "source": [
      "Connecting the dual and primal problems - "
     ]
    },
    {
     "cell_type": "markdown",
     "metadata": {},
     "source": [
      "Key points connecting the primal and dual problems:\n",
      "\n",
      "* Weak duality: The optimal value for the dual problem, d^*,  is $\\leq$ than that of the primal problem p^*. \n",
      "* And strong duality: $d^* = p^*$\n",
      "\n",
      "Therefore:\n",
      "\n",
      "* The role of the Lagrangian is to connect the primal and dual problems.\n",
      "* There are a set of parameters that solve both problems."
     ]
    },
    {
     "cell_type": "heading",
     "level": 4,
     "metadata": {},
     "source": [
      "Karush-Kuhn-Tucker (KKT) conditions are parameters that simultanously solve the primal and dual problem - "
     ]
    },
    {
     "cell_type": "markdown",
     "metadata": {},
     "source": [
      "These set of parameters that solve both dual and primal framing of the problem:\n",
      "\n",
      "* There is a value $\\omega^*$ that is a solution to the primal problem \n",
      "* There are values $\\alpha^*, \\beta^*$ that are solutions to the dual problem.\n",
      "\n",
      "These parameters therefore satisfy the KKT conditions, the most importaint of which is the dual complementarity condition:\n",
      "\n",
      "* $\\alpha^* g_i(\\omega^*) = 0$\n",
      "* $\\alpha^* \\geq 0$\n",
      "\n",
      "This implies that $\\alpha^* > 0$ only when $g_i(\\omega^*) = 0$.\n",
      "\n",
      "In the context of SVMs, recall that $g_i$ will be:\n",
      "\n",
      "* $g_i(w) = -y^i (w^T x^i + b) + 1 $\n",
      "* $g_i = 0$ for points with a funtional margin of 1.\n",
      "* Points with a funtional margin of 1 are definitionally closest to the decision boundary."
     ]
    },
    {
     "cell_type": "heading",
     "level": 4,
     "metadata": {},
     "source": [
      "Set up and solve the Dual problem to find optimal parameter values $w,\\alpha$ that maximize the geometric margin -"
     ]
    },
    {
     "cell_type": "markdown",
     "metadata": {},
     "source": [
      "Previously, we defined a generalized Lagrangian:\n",
      "    \n",
      "$$ L(x,\\alpha,\\beta) = f(x) + \\sum\\limits_{i=1}^m \\alpha_i g_i(x) + \\sum\\limits_{i=1}^m \\beta_i h_i(x) $$\n",
      "\n",
      "We can use this to maximize the geometric margin for the optimal margin classifier:\n",
      "\n",
      "* $f(w) = \\|w\\|^{2}$\n",
      "* $g_i(w) = -y^i (w^T x^i + b) + 1 $\n",
      "\n",
      "Perform the substitution, noting that there are no equality ($h_i$) constraints in our problem:\n",
      "\n",
      "$$ L(w,b,\\alpha) = \\|w\\|^{2} - \\sum\\limits_{i = 1}^{k} \\alpha_i [y^i (w^T x^i + b) -1] $$\n",
      "\n",
      "We proceed to find the dual form of this problem, which has the classic form:\n",
      "\n",
      "$ \\theta(\\alpha,\\beta) = min_{x} L(x,\\alpha,\\beta) $\n",
      "\n",
      "We re-write with $x=\\omega+b$ and also note that $\\beta$ term is not present:\n",
      "\n",
      "$ \\theta(\\alpha,\\beta) = min_{\\omega,b} L(\\omega,b,\\alpha) $\n",
      "\n",
      "We can find the minimum by setting the derivative of $\\theta(\\alpha,\\beta)$ to zero:\n",
      "\n",
      "$$ \\nabla L(\\omega,b,\\alpha) = \\omega  - \\sum_{i=1}^m \\alpha_i y^i x^i = 0 $$\n",
      "\n",
      "We do this and substitue back into the inital Lagrangian to get:\n",
      "\n",
      "$$ min_w [ L(w,b,\\alpha) ] = \\sum \\alpha_i - 0.5 \\sum_i \\sum_j y^i y^j \\alpha_i \\alpha_j - <x^i , x^j > - b \\sum \\alpha_i y^i $$\n",
      "\n",
      "Critically, our problem meets conditions required for $p^* = d^*$ and the KKT conditions.\n",
      "\n",
      "This implies that $\\alpha^* > 0$ only when $g_i(\\omega^*) = 0$, the points close to our boundary.\n",
      "\n",
      "Moreover, we have re-framed the optimization problem:\n",
      "\n",
      "$$ max_{\\alpha; \\alpha \\geq 0} W(\\alpha) = \\sum \\alpha_i - 0.5 \\sum_i \\sum_j y^i y^j \\alpha_i \\alpha_j - <x^i , x^j > - b \\sum \\alpha_i y^i $$\n",
      "\n",
      "By solving the dual problem, we found: \n",
      "\n",
      "* A set of optimal $\\alpha_i$ values.\n",
      "* From KKT, we know that the $\\alpha_i>0$ only for points closest to the decision boundary, the support vector.\n",
      "* The optimal value of our model parameters: $ \\omega  = \\sum_{i=1}^m \\alpha_i y^i x^i $\n",
      "\n",
      "Now, if we want to make a prediction for a new point, x: \n",
      "\n",
      "$$ \\omega^T x + b = (\\sum_{i=1}^m \\alpha_i y^i x^i)^T x + b = \\sum_{i=1}^m \\alpha_i y^i <x^i x> + b $$\n",
      "\n",
      "Note two critical points:\n",
      "\n",
      "* This can be Kernelized, because only inner products between new point and the support vectors appear. \n",
      "* The only values of $\\alpha > 0$ are those for the support vectors."
     ]
    },
    {
     "cell_type": "heading",
     "level": 4,
     "metadata": {},
     "source": [
      "Apply the Dual problem to a different objective - "
     ]
    },
    {
     "cell_type": "markdown",
     "metadata": {},
     "source": [
      "Recall the general form of our constraints for the primal problem:\n",
      "    \n",
      "* $min_x$ $f(x)$ \n",
      "* $g_i(w) \\leq 0$ \n",
      "* $h_i(w) = 0$\n",
      "    \n",
      "We were given the constraint that the functional margin is:\n",
      "\n",
      "* $y^i (w^T x^i + b) \\geq 1 $\n",
      "\n",
      "We re-wrote this constraint to fit the primary problem:\n",
      "\n",
      "* $g_i(w) = -y^i (w^T x^i + b) + 1 $    \n",
      "* $g_i(w) \\leq 0$.\n",
      "\n",
      "We can use this to maximize the geometric margin for a new problem, written in primal form:\n",
      "\n",
      "* $min_{w}$ $f(w) = \\frac{1}{2} w^T w $.\n",
      "* Subject to: $w^T x^i \\geq 1$.\n",
      "\n",
      "For this new problem, we should similarly re-write the constraint:\n",
      "\n",
      "* $g_i(w) = 1-(w^T x^i)$\n",
      "* $g_i(w) \\leq 0$\n",
      "\n",
      "And we write the Lagrangian:\n",
      "\n",
      "$$ L(w,b,\\alpha) = \\frac{1}{2} w^T w + \\sum\\limits_{i = 1}^{k} \\alpha_i [1-(w^T x^i)] $$\n",
      "\n",
      "In the dual form of the problem, we first minimize the Lagrangian with respect to $w,b$.\n",
      "\n",
      "Since there is no $b$ parameter, we simply take the gradient of the Lagrangian with respect to $w$:\n",
      "\n",
      "$$ \\nabla_w L(w,b,\\alpha) = w + \\sum\\limits_{i=1}^k - a_i x_i $$\n",
      "\n",
      "We use this to find our optimal value of $w$:\n",
      "\n",
      "$$ w = \\sum\\limits_{i=1}^k a_i x_i $$\n",
      "\n",
      "Recall that our initial framing of the dual problem:\n",
      "\n",
      "$$ D^* = max_{\\alpha,\\beta,\\alpha \\geq 0} min_{x} L(w,\\alpha,\\beta) $$\n",
      "\n",
      "As shown above, we have done:\n",
      "\n",
      "$min_{x} L(w,\\alpha,\\beta)$\n",
      "\n",
      "This has given us the optimal value of $w$.\n",
      "\n",
      "We plug it back into the Lagrangian:\n",
      "\n",
      "$$ D^* = max_{\\alpha \\geq 0} L(w,b,\\alpha) = \\frac{1}{2} ( \\sum\\limits_{i=1}^k a_i x_i)^T ( \\sum\\limits_{i=1}^k a_i x_i) + \\sum\\limits_{i = 1}^{k} \\alpha_i [1-(( \\sum\\limits_{i=1}^k a_i x_i)^T x^i)] $$\n",
      "\n",
      "Distribute terms and simplify:\n",
      "\n",
      "$$ D^* = max_{\\alpha \\geq 0} L(w,b,\\alpha) = \\sum\\limits_{i = 1}^{k} \\alpha_i - \\frac{1}{2} \\sum\\limits_{i=1}^k \\sum\\limits_{j=1}^k a_i a_j (x_i)^T x^j $$\n",
      "\n",
      "Note that this can be Kernalized, because only inner products of the data appear!\n",
      "\n",
      "To evaluate a point, $z$, we simply evaluate $w^Tz$ with $w^T = (\\sum\\limits_{i=1}^k a_i x_i)^T $."
     ]
    },
    {
     "cell_type": "heading",
     "level": 4,
     "metadata": {},
     "source": [
      "Inner products -"
     ]
    },
    {
     "cell_type": "markdown",
     "metadata": {},
     "source": [
      "Define a distance between vectors (inner product). It is essential to have a positive inner product.\n",
      "\n",
      "Furthmore, you can think of the inner product as a measure of distance.\n",
      "\n",
      "* If two vectors are orthogonal, their inner product will be small.\n",
      "* Conversely, similar vectors will have a large inner product.\n"
     ]
    },
    {
     "cell_type": "heading",
     "level": 4,
     "metadata": {},
     "source": [
      "The inner product can be represented as a Kernel function - "
     ]
    },
    {
     "cell_type": "markdown",
     "metadata": {},
     "source": [
      "We have previously been discussing linear models, which lead to a linear decision boundary:\n",
      "\n",
      "As with logistic regression, the decision boundary is produced when $\\omega^Tx + b = \\omega_1 x_1 + \\omega_2 x_2 + b = 0$.\n",
      "\n",
      "The linear decision boundary is:\n",
      "\n",
      "$x_2 = -\\frac{\\omega_1}{\\omega_2} x_1 - \\frac{b}{\\omega_2} $\n",
      "\n",
      "However, it may be useful to learn in a higher dimentional space (e.g., with respect to $x^2$, etc).\n",
      "\n",
      "For this, the idea of a feature mapping, $\\phi$, is a way to re-cast the attributes in a higher dimentional space.\n",
      "\n",
      "$$ \\phi(x) = \\begin{bmatrix} x_i x_j \\\\   \\\\   \\end{bmatrix} $$\n",
      "\n",
      "If we want to learn in this higher dimensional space using our new funtion (above), we need to replace $x$ with $\\phi(x)$.\n",
      "\n",
      "In turn, we need to take the dot product of features, $\\phi(x)$.\n",
      "\n",
      "$$ \\phi(x)^T \\phi(z) = \\sum\\limits_i \\sum\\limits_j x_i x_j z_i z_j = \\sum\\limits_i x_i z_i \\sum\\limits_j x_j z_j = (x^T z)^2 $$\n",
      "\n",
      "In turn, this is the Kernel given the mapping specified above. \n",
      "\n",
      "Work a more complex example to further highlight the principle:\n",
      "\n",
      "$$ \\phi(x) = \\begin{bmatrix} x_i x_j \\\\ ...  \\\\ x_3 x_3 \\\\ \\sqrt{2c}x_i \\\\ ... \\\\ \\sqrt{2c}x_3 \\\\ c \\end{bmatrix} $$\n",
      "\n",
      "$$ \\phi(x)^T \\phi(z) = \\sum\\limits_i x_i z_i \\sum\\limits_j x_j z_j +  \\sum\\limits_i \\sqrt{2c}x_i \\sqrt{2c}z_i + c^2 = (x^T z)^2 + \\sqrt{2c} (x^T z) + c^2 $$\n",
      "\n",
      "Note:\n",
      "$$ A^2 + 2AB + B^2 = (A+B)^2 $$\n",
      "\n",
      "Thus:\n",
      "\n",
      "$$ K(\\phi(x),\\phi(z)) = \\phi(x)^T \\phi(z) = (x^T z + C)^2 $$\n",
      "\n",
      "There are more interesting mapping functions, which may lead to a Kernel definition.\n",
      "\n",
      "Intuitively, the Kernel mapping shows that the inner product in a higher dimentional space is equal:\n",
      "\n",
      "* To the inner product computer in the lower dimentional space with $x,z$.\n",
      "* This reduces the number of computations considerably.\n",
      "* Moreover, this is a measure of the similarly of two attribute vectors mapped by $\\phi$ into a higher dimentional space.\n",
      "\n",
      "So, a Kernel funtion, $K$, is intuitively a measure of distance."
     ]
    },
    {
     "cell_type": "heading",
     "level": 4,
     "metadata": {},
     "source": [
      "Kernels - "
     ]
    },
    {
     "cell_type": "markdown",
     "metadata": {},
     "source": [
      "If an algorithm inclues inner products $<x, z>$ between attribute vectors, then we can replace this with K(x,z) where K is a kernel. This allows the algorithm to work efficiently in the high dimensional feature space corresponding to K at low computational cost.\n",
      "\n",
      "Example:\n",
      "\n",
      "* Seperate two classes that are represented in a 2D space as concentric circles.\n",
      "* Define $\\phi$ as a mapping that will transform x,y into a (higher) dimentional space in which the classes are seperated."
     ]
    }
   ],
   "metadata": {}
  }
 ]
}